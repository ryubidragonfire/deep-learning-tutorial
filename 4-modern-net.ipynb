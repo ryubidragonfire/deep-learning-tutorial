{
 "cells": [
  {
   "cell_type": "markdown",
   "metadata": {},
   "source": [
    "todo: 5, check out how to do pretrained dnn as feature extractor"
   ]
  },
  {
   "cell_type": "markdown",
   "metadata": {},
   "source": [
    "# Modern net"
   ]
  },
  {
   "cell_type": "code",
   "execution_count": 4,
   "metadata": {
    "collapsed": false
   },
   "outputs": [],
   "source": [
    "import theano\n",
    "from theano import tensor as T\n",
    "from theano.sandbox.rng_mrg import MRG_RandomStreams as RandomStreams\n",
    "import numpy as np\n",
    "from load import mnist"
   ]
  },
  {
   "cell_type": "code",
   "execution_count": 5,
   "metadata": {
    "collapsed": true
   },
   "outputs": [],
   "source": [
    "srng = RandomStreams()\n",
    "\n",
    "def floatX(X):\n",
    "    return np.asarray(X, dtype=theano.config.floatX)\n",
    "\n",
    "def init_weights(shape):\n",
    "    return theano.shared(floatX(np.random.randn(*shape) * 0.01))"
   ]
  },
  {
   "cell_type": "code",
   "execution_count": 6,
   "metadata": {
    "collapsed": true
   },
   "outputs": [],
   "source": [
    "def rectify(X):\n",
    "    return T.maximum(X, 0.)"
   ]
  },
  {
   "cell_type": "markdown",
   "metadata": {},
   "source": [
    "Numerically stable softmax"
   ]
  },
  {
   "cell_type": "code",
   "execution_count": 7,
   "metadata": {
    "collapsed": true
   },
   "outputs": [],
   "source": [
    "def softmax(X):\n",
    "    e_x = T.exp(X - X.max(axis=1).dimshuffle(0, 'x'))\n",
    "    return e_x / e_x.sum(axis=1).dimshuffle(0, 'x')"
   ]
  },
  {
   "cell_type": "markdown",
   "metadata": {},
   "source": [
    "`moving average(magnitude(gradient))`, to control learning rate near target\n",
    "\n",
    "scale the gradient based on `moving average`."
   ]
  },
  {
   "cell_type": "code",
   "execution_count": 8,
   "metadata": {
    "collapsed": true
   },
   "outputs": [],
   "source": [
    "def RMSprop(cost, params, lr=0.001, rho=0.9, epsilon=1e-6):\n",
    "    grads = T.grad(cost=cost, wrt=params)\n",
    "    updates = []\n",
    "    for p, g in zip(params, grads):\n",
    "        acc = theano.shared(p.get_value() * 0.)\n",
    "        acc_new = rho * acc + (1 - rho) * g ** 2\n",
    "        gradient_scaling = T.sqrt(acc_new + epsilon)\n",
    "        g = g / gradient_scaling\n",
    "        updates.append((acc, acc_new))\n",
    "        updates.append((p, p - lr * g))\n",
    "    return updates"
   ]
  },
  {
   "cell_type": "markdown",
   "metadata": {},
   "source": [
    "Randomly drop out and scale the rest"
   ]
  },
  {
   "cell_type": "code",
   "execution_count": 9,
   "metadata": {
    "collapsed": true
   },
   "outputs": [],
   "source": [
    "def dropout(X, p=0.):\n",
    "    if p > 0:\n",
    "        retain_prob = 1 - p\n",
    "        X *= srng.binomial(X.shape, p=retain_prob, dtype=theano.config.floatX)\n",
    "        X /= retain_prob\n",
    "    return X"
   ]
  },
  {
   "cell_type": "markdown",
   "metadata": {},
   "source": [
    "2 hidden layers"
   ]
  },
  {
   "cell_type": "code",
   "execution_count": 12,
   "metadata": {
    "collapsed": true
   },
   "outputs": [],
   "source": [
    "def model(X, w_h, w_h2, w_o, p_drop_input, p_drop_hidden):\n",
    "\n",
    "    X = dropout(X, p_drop_input)\n",
    "    h = rectify(T.dot(X, w_h))\n",
    "\n",
    "    h = dropout(h, p_drop_hidden)\n",
    "    h2 = rectify(T.dot(h, w_h2))\n",
    "\n",
    "    h2 = dropout(h2, p_drop_hidden)\n",
    "    py_x = softmax(T.dot(h2, w_o))\n",
    "\n",
    "    return h, h2, py_x"
   ]
  },
  {
   "cell_type": "markdown",
   "metadata": {},
   "source": [
    "Add noise to model"
   ]
  },
  {
   "cell_type": "code",
   "execution_count": 13,
   "metadata": {
    "collapsed": false
   },
   "outputs": [],
   "source": [
    "trX, teX, trY, teY = mnist(onehot=True)\n",
    "\n",
    "X = T.fmatrix()\n",
    "Y = T.fmatrix()\n",
    "\n",
    "w_h = init_weights((784, 625))\n",
    "w_h2 = init_weights((625, 625))\n",
    "w_o = init_weights((625, 10))\n",
    "\n",
    "noise_h, noise_h2, noise_py_x = model(X, w_h, w_h2, w_o, 0.2, 0.5)\n",
    "\n",
    "h, h2, py_x = model(X, w_h, w_h2, w_o, 0., 0.)\n",
    "\n",
    "y_x = T.argmax(py_x, axis=1)\n",
    "\n",
    "cost = T.mean(T.nnet.categorical_crossentropy(noise_py_x, Y))\n",
    "\n",
    "params = [w_h, w_h2, w_o]\n",
    "\n",
    "updates = RMSprop(cost, params, lr=0.001)"
   ]
  },
  {
   "cell_type": "code",
   "execution_count": 15,
   "metadata": {
    "collapsed": false
   },
   "outputs": [
    {
     "name": "stdout",
     "output_type": "stream",
     "text": [
      "0.9391\n",
      "0.9627\n",
      "0.9723\n",
      "0.9759\n",
      "0.9771\n",
      "0.9789\n",
      "0.9782\n",
      "0.9809\n",
      "0.9815\n",
      "0.981\n",
      "0.9824\n",
      "0.9823\n",
      "0.9827\n",
      "0.9834\n",
      "0.9836\n",
      "0.9832\n",
      "0.9841\n",
      "0.9841\n",
      "0.9846\n",
      "0.9852\n",
      "0.985\n",
      "0.9844\n",
      "0.9855\n",
      "0.9853\n",
      "0.9857\n",
      "0.9852\n",
      "0.986\n",
      "0.9855\n",
      "0.9858\n",
      "0.9857\n",
      "0.9858\n",
      "0.9862\n",
      "0.9859\n",
      "0.9861\n",
      "0.9856\n",
      "0.9863\n",
      "0.9861\n",
      "0.9863\n",
      "0.9874\n",
      "0.9882\n",
      "0.9874\n",
      "0.9861\n",
      "0.9865\n",
      "0.9871\n",
      "0.9856\n",
      "0.9865\n",
      "0.9864\n",
      "0.9862\n",
      "0.9864\n",
      "0.9856\n",
      "0.9858\n",
      "0.9862\n",
      "0.9865\n",
      "0.9861\n",
      "0.9863\n",
      "0.9858\n",
      "0.9861\n",
      "0.9861\n",
      "0.9861\n",
      "0.9867\n",
      "0.9875\n",
      "0.987\n",
      "0.9879\n",
      "0.9865\n",
      "0.9866\n",
      "0.9872\n",
      "0.9869\n",
      "0.9867\n",
      "0.9866\n",
      "0.9869\n",
      "0.9867\n",
      "0.9873\n",
      "0.9874\n",
      "0.9866\n",
      "0.9866\n",
      "0.9868\n",
      "0.9874\n",
      "0.9878\n",
      "0.9873\n",
      "0.9877\n",
      "0.9873\n",
      "0.9884\n",
      "0.9868\n",
      "0.9866\n",
      "0.9875\n",
      "0.9875\n",
      "0.9867\n",
      "0.9866\n",
      "0.9869\n",
      "0.9873\n",
      "0.9868\n",
      "0.9869\n",
      "0.9872\n",
      "0.9871\n",
      "0.9869\n",
      "0.9875\n",
      "0.9873\n",
      "0.9871\n",
      "0.9867\n",
      "0.9873\n"
     ]
    }
   ],
   "source": [
    "train = theano.function(inputs=[X, Y], outputs=cost, updates=updates, allow_input_downcast=True)\n",
    "predict = theano.function(inputs=[X], outputs=y_x, allow_input_downcast=True)\n",
    "\n",
    "for i in range(100):\n",
    "    for start, end in zip(range(0, len(trX), 128), range(128, len(trX), 128)):\n",
    "        cost = train(trX[start:end], trY[start:end])\n",
    "    print(np.mean(np.argmax(teY, axis=1) == predict(teX)))"
   ]
  },
  {
   "cell_type": "code",
   "execution_count": null,
   "metadata": {
    "collapsed": true
   },
   "outputs": [],
   "source": []
  }
 ],
 "metadata": {
  "kernelspec": {
   "display_name": "Python 3",
   "language": "python",
   "name": "python3"
  },
  "language_info": {
   "codemirror_mode": {
    "name": "ipython",
    "version": 3
   },
   "file_extension": ".py",
   "mimetype": "text/x-python",
   "name": "python",
   "nbconvert_exporter": "python",
   "pygments_lexer": "ipython3",
   "version": "3.4.4"
  }
 },
 "nbformat": 4,
 "nbformat_minor": 0
}
