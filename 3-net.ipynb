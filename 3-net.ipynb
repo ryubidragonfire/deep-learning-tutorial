{
 "cells": [
  {
   "cell_type": "markdown",
   "metadata": {},
   "source": [
    "# Classic Net"
   ]
  },
  {
   "cell_type": "code",
   "execution_count": 6,
   "metadata": {
    "collapsed": false
   },
   "outputs": [],
   "source": [
    "import theano\n",
    "from theano import tensor as T\n",
    "import numpy as np\n",
    "from load import mnist\n",
    "#from foxhound.utils.vis import grayscale_grid_vis, unit_scale\n",
    "#from foxhound.vis import grayscale_grid_vis, unit_scale\n",
    "#from scipy.misc import imsave"
   ]
  },
  {
   "cell_type": "code",
   "execution_count": 22,
   "metadata": {
    "collapsed": false
   },
   "outputs": [
    {
     "name": "stdout",
     "output_type": "stream",
     "text": [
      "cpu\n",
      "cpu\n"
     ]
    }
   ],
   "source": [
    "print(theano.config.device)\n",
    "import os\n",
    "os.environ[\"THEANO_FLAGS\"] = \"device=gpu\"\n",
    "import theano\n",
    "print(theano.config.device)"
   ]
  },
  {
   "cell_type": "code",
   "execution_count": 7,
   "metadata": {
    "collapsed": true
   },
   "outputs": [],
   "source": [
    "def floatX(X):\n",
    "    return np.asarray(X, dtype=theano.config.floatX)"
   ]
  },
  {
   "cell_type": "code",
   "execution_count": 8,
   "metadata": {
    "collapsed": true
   },
   "outputs": [],
   "source": [
    "def init_weights(shape):\n",
    "    return theano.shared(floatX(np.random.randn(*shape) * 0.01))"
   ]
  },
  {
   "cell_type": "code",
   "execution_count": 9,
   "metadata": {
    "collapsed": true
   },
   "outputs": [],
   "source": [
    "def sgd(cost, params, lr=0.05):\n",
    "    grads = T.grad(cost=cost, wrt=params)\n",
    "    updates = []\n",
    "    for p, g in zip(params, grads):\n",
    "        updates.append([p, p - g * lr])\n",
    "    return updates"
   ]
  },
  {
   "cell_type": "code",
   "execution_count": 10,
   "metadata": {
    "collapsed": true
   },
   "outputs": [],
   "source": [
    "def model(X, w_h, w_o):\n",
    "    h = T.nnet.sigmoid(T.dot(X, w_h))\n",
    "    pyx = T.nnet.softmax(T.dot(h, w_o))\n",
    "    return pyx"
   ]
  },
  {
   "cell_type": "code",
   "execution_count": 11,
   "metadata": {
    "collapsed": true
   },
   "outputs": [],
   "source": [
    "trX, teX, trY, teY = mnist(onehot=True)\n",
    "\n",
    "X = T.fmatrix()\n",
    "Y = T.fmatrix()"
   ]
  },
  {
   "cell_type": "code",
   "execution_count": 12,
   "metadata": {
    "collapsed": true
   },
   "outputs": [],
   "source": [
    "w_h = init_weights((784, 625))\n",
    "w_o = init_weights((625, 10))\n"
   ]
  },
  {
   "cell_type": "code",
   "execution_count": 13,
   "metadata": {
    "collapsed": true
   },
   "outputs": [],
   "source": [
    "py_x = model(X, w_h, w_o)\n",
    "y_x = T.argmax(py_x, axis=1)\n"
   ]
  },
  {
   "cell_type": "code",
   "execution_count": 14,
   "metadata": {
    "collapsed": true
   },
   "outputs": [],
   "source": [
    "cost = T.mean(T.nnet.categorical_crossentropy(py_x, Y))\n",
    "params = [w_h, w_o]\n",
    "updates = sgd(cost, params)"
   ]
  },
  {
   "cell_type": "code",
   "execution_count": 15,
   "metadata": {
    "collapsed": false
   },
   "outputs": [],
   "source": [
    "train = theano.function(inputs=[X, Y], outputs=cost, updates=updates, allow_input_downcast=True)\n",
    "predict = theano.function(inputs=[X], outputs=y_x, allow_input_downcast=True)\n"
   ]
  },
  {
   "cell_type": "code",
   "execution_count": 17,
   "metadata": {
    "collapsed": false
   },
   "outputs": [
    {
     "name": "stdout",
     "output_type": "stream",
     "text": [
      "0.704\n",
      "0.828\n",
      "0.8676\n",
      "0.8832\n",
      "0.8898\n",
      "0.8951\n",
      "0.8987\n",
      "0.9022\n",
      "0.9046\n",
      "0.907\n",
      "0.9093\n",
      "0.9116\n",
      "0.9129\n",
      "0.9139\n",
      "0.915\n",
      "0.9161\n",
      "0.9168\n",
      "0.9176\n",
      "0.918\n",
      "0.9188\n",
      "0.9197\n",
      "0.9198\n",
      "0.92\n",
      "0.9203\n",
      "0.9211\n",
      "0.9211\n",
      "0.9215\n",
      "0.922\n",
      "0.9226\n",
      "0.9235\n",
      "0.9244\n",
      "0.925\n",
      "0.9255\n",
      "0.9259\n",
      "0.9265\n",
      "0.9269\n",
      "0.9276\n",
      "0.928\n",
      "0.9278\n",
      "0.9286\n",
      "0.9293\n",
      "0.9299\n",
      "0.9307\n",
      "0.9312\n",
      "0.9317\n",
      "0.9331\n",
      "0.9339\n",
      "0.9343\n",
      "0.9347\n",
      "0.9355\n",
      "0.9361\n",
      "0.9368\n",
      "0.938\n",
      "0.9384\n",
      "0.9388\n",
      "0.9394\n",
      "0.9402\n",
      "0.9404\n",
      "0.9407\n",
      "0.9409\n",
      "0.9415\n",
      "0.9418\n",
      "0.9424\n",
      "0.9434\n",
      "0.9438\n",
      "0.9439\n",
      "0.9445\n",
      "0.9448\n",
      "0.9453\n",
      "0.9459\n",
      "0.9465\n",
      "0.9467\n",
      "0.947\n",
      "0.9473\n",
      "0.9479\n",
      "0.9484\n",
      "0.9492\n",
      "0.9493\n",
      "0.9495\n",
      "0.95\n",
      "0.9502\n",
      "0.9503\n",
      "0.951\n",
      "0.9517\n",
      "0.9523\n",
      "0.9528\n",
      "0.9536\n",
      "0.9541\n",
      "0.9542\n",
      "0.9542\n",
      "0.9546\n",
      "0.955\n",
      "0.9555\n",
      "0.9558\n",
      "0.9563\n",
      "0.9568\n",
      "0.9571\n",
      "0.9574\n",
      "0.9575\n",
      "0.9576\n"
     ]
    }
   ],
   "source": [
    "for i in range(100):\n",
    "    for start, end in zip(range(0, len(trX), 128), range(128, len(trX), 128)):\n",
    "        cost = train(trX[start:end], trY[start:end])\n",
    "    print( np.mean(np.argmax(teY, axis=1) == predict(teX)))\n"
   ]
  },
  {
   "cell_type": "code",
   "execution_count": null,
   "metadata": {
    "collapsed": true
   },
   "outputs": [],
   "source": []
  }
 ],
 "metadata": {
  "kernelspec": {
   "display_name": "Python 3",
   "language": "python",
   "name": "python3"
  },
  "language_info": {
   "codemirror_mode": {
    "name": "ipython",
    "version": 3
   },
   "file_extension": ".py",
   "mimetype": "text/x-python",
   "name": "python",
   "nbconvert_exporter": "python",
   "pygments_lexer": "ipython3",
   "version": "3.4.4"
  }
 },
 "nbformat": 4,
 "nbformat_minor": 0
}
