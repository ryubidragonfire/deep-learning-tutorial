{
 "cells": [
  {
   "cell_type": "code",
   "execution_count": 1,
   "metadata": {
    "collapsed": false
   },
   "outputs": [],
   "source": [
    "import theano\n",
    "from theano import tensor as T\n",
    "import numpy as np\n",
    "from load import mnist\n",
    "#from foxhound.vis import grayscale_grid_vis, unit_scale\n",
    "from foxhound.vis import grayscale_grid_vis\n",
    "from scipy.misc import imsave"
   ]
  },
  {
   "cell_type": "code",
   "execution_count": 2,
   "metadata": {
    "collapsed": true
   },
   "outputs": [],
   "source": [
    "def floatX(X):\n",
    "    return np.asarray(X, dtype=theano.config.floatX)"
   ]
  },
  {
   "cell_type": "code",
   "execution_count": 3,
   "metadata": {
    "collapsed": true
   },
   "outputs": [],
   "source": [
    "def init_weights(shape):\n",
    "    return theano.shared(floatX(np.random.randn(*shape) * 0.01))"
   ]
  },
  {
   "cell_type": "code",
   "execution_count": 4,
   "metadata": {
    "collapsed": true
   },
   "outputs": [],
   "source": [
    "def sgd(cost, params, lr=0.05):\n",
    "    grads = T.grad(cost=cost, wrt=params)\n",
    "    updates = []\n",
    "    for p, g in zip(params, grads):\n",
    "        updates.append([p, p - g * lr])\n",
    "    return updates"
   ]
  },
  {
   "cell_type": "code",
   "execution_count": 5,
   "metadata": {
    "collapsed": true
   },
   "outputs": [],
   "source": [
    "def model(X, w_h, w_o):\n",
    "    h = T.nnet.sigmoid(T.dot(X, w_h))\n",
    "    pyx = T.nnet.softmax(T.dot(h, w_o))\n",
    "    return pyx"
   ]
  },
  {
   "cell_type": "code",
   "execution_count": 6,
   "metadata": {
    "collapsed": true
   },
   "outputs": [],
   "source": [
    "trX, teX, trY, teY = mnist(onehot=True)\n",
    "\n",
    "X = T.fmatrix()\n",
    "Y = T.fmatrix()"
   ]
  },
  {
   "cell_type": "code",
   "execution_count": 7,
   "metadata": {
    "collapsed": true
   },
   "outputs": [],
   "source": [
    "w_h = init_weights((784, 625))\n",
    "w_o = init_weights((625, 10))\n"
   ]
  },
  {
   "cell_type": "code",
   "execution_count": 8,
   "metadata": {
    "collapsed": true
   },
   "outputs": [],
   "source": [
    "py_x = model(X, w_h, w_o)\n",
    "y_x = T.argmax(py_x, axis=1)\n"
   ]
  },
  {
   "cell_type": "code",
   "execution_count": 9,
   "metadata": {
    "collapsed": true
   },
   "outputs": [],
   "source": [
    "cost = T.mean(T.nnet.categorical_crossentropy(py_x, Y))\n",
    "params = [w_h, w_o]\n",
    "updates = sgd(cost, params)"
   ]
  },
  {
   "cell_type": "code",
   "execution_count": 10,
   "metadata": {
    "collapsed": false
   },
   "outputs": [
    {
     "name": "stderr",
     "output_type": "stream",
     "text": [
      "WARNING (theano.gof.compilelock): Overriding existing lock by dead process '13136' (I am process '6240')\n",
      "INFO (theano.gof.compilelock): Refreshing lock C:\\Users\\chyam\\AppData\\Local\\Theano\\compiledir_Windows-10-10.0.14393-Intel64_Family_6_Model_61_Stepping_4_GenuineIntel-2.7.12-64\\lock_dir\\lock\n",
      "INFO (theano.gof.compilelock): Refreshing lock C:\\Users\\chyam\\AppData\\Local\\Theano\\compiledir_Windows-10-10.0.14393-Intel64_Family_6_Model_61_Stepping_4_GenuineIntel-2.7.12-64\\lock_dir\\lock\n",
      "INFO (theano.gof.compilelock): Refreshing lock C:\\Users\\chyam\\AppData\\Local\\Theano\\compiledir_Windows-10-10.0.14393-Intel64_Family_6_Model_61_Stepping_4_GenuineIntel-2.7.12-64\\lock_dir\\lock\n"
     ]
    }
   ],
   "source": [
    "train = theano.function(inputs=[X, Y], outputs=cost, updates=updates, allow_input_downcast=True)\n",
    "predict = theano.function(inputs=[X], outputs=y_x, allow_input_downcast=True)\n"
   ]
  },
  {
   "cell_type": "code",
   "execution_count": 11,
   "metadata": {
    "collapsed": false
   },
   "outputs": [
    {
     "name": "stdout",
     "output_type": "stream",
     "text": [
      "0.7024\n",
      "0.8289\n",
      "0.8682\n",
      "0.8837\n",
      "0.8891\n",
      "0.8947\n",
      "0.8987\n",
      "0.9019\n",
      "0.9046\n",
      "0.9067\n",
      "0.9094\n",
      "0.911\n",
      "0.9127\n",
      "0.9136\n",
      "0.9149\n",
      "0.9154\n",
      "0.9163\n",
      "0.9167\n",
      "0.9178\n",
      "0.9184\n",
      "0.9186\n",
      "0.9192\n",
      "0.9196\n",
      "0.9199\n",
      "0.9206\n",
      "0.9211\n",
      "0.9209\n",
      "0.9217\n",
      "0.9223\n",
      "0.9227\n",
      "0.9231\n",
      "0.9241\n",
      "0.9241\n",
      "0.9245\n",
      "0.9254\n",
      "0.9258\n",
      "0.9261\n",
      "0.9266\n",
      "0.9273\n",
      "0.9281\n",
      "0.9286\n",
      "0.929\n",
      "0.93\n",
      "0.9304\n",
      "0.9309\n",
      "0.9315\n",
      "0.9325\n",
      "0.933\n",
      "0.9335\n",
      "0.9343\n",
      "0.9349\n",
      "0.9354\n",
      "0.9358\n",
      "0.9368\n",
      "0.938\n",
      "0.9382\n",
      "0.9385\n",
      "0.9391\n",
      "0.9394\n",
      "0.9397\n",
      "0.9406\n",
      "0.9415\n",
      "0.9426\n",
      "0.943\n",
      "0.9432\n",
      "0.9443\n",
      "0.9451\n",
      "0.9455\n",
      "0.9459\n",
      "0.9462\n",
      "0.9464\n",
      "0.9468\n",
      "0.9474\n",
      "0.9476\n",
      "0.948\n",
      "0.948\n",
      "0.9484\n",
      "0.949\n",
      "0.9495\n",
      "0.95\n",
      "0.9506\n",
      "0.9508\n",
      "0.9514\n",
      "0.9517\n",
      "0.9521\n",
      "0.9526\n",
      "0.9529\n",
      "0.9533\n",
      "0.9535\n",
      "0.9542\n",
      "0.9544\n",
      "0.955\n",
      "0.9553\n",
      "0.9553\n",
      "0.9556\n",
      "0.956\n",
      "0.956\n",
      "0.9564\n",
      "0.9569\n",
      "0.9574\n"
     ]
    }
   ],
   "source": [
    "for i in range(100):\n",
    "    for start, end in zip(range(0, len(trX), 128), range(128, len(trX), 128)):\n",
    "        cost = train(trX[start:end], trY[start:end])\n",
    "    print np.mean(np.argmax(teY, axis=1) == predict(teX))\n"
   ]
  },
  {
   "cell_type": "code",
   "execution_count": null,
   "metadata": {
    "collapsed": true
   },
   "outputs": [],
   "source": []
  }
 ],
 "metadata": {
  "kernelspec": {
   "display_name": "Python [Root]",
   "language": "python",
   "name": "Python [Root]"
  },
  "language_info": {
   "codemirror_mode": {
    "name": "ipython",
    "version": 2
   },
   "file_extension": ".py",
   "mimetype": "text/x-python",
   "name": "python",
   "nbconvert_exporter": "python",
   "pygments_lexer": "ipython2",
   "version": "2.7.12"
  }
 },
 "nbformat": 4,
 "nbformat_minor": 0
}
