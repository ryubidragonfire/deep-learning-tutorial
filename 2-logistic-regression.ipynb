{
 "cells": [
  {
   "cell_type": "markdown",
   "metadata": {},
   "source": [
    "# Logistic Regression"
   ]
  },
  {
   "cell_type": "code",
   "execution_count": 1,
   "metadata": {
    "collapsed": true
   },
   "outputs": [],
   "source": [
    "import theano\n",
    "from theano import tensor as T\n",
    "import numpy as np\n",
    "from load import mnist"
   ]
  },
  {
   "cell_type": "code",
   "execution_count": 2,
   "metadata": {
    "collapsed": true
   },
   "outputs": [],
   "source": [
    "def floatX(X):\n",
    "    return np.asarray(X, dtype=theano.config.floatX)"
   ]
  },
  {
   "cell_type": "code",
   "execution_count": 3,
   "metadata": {
    "collapsed": true
   },
   "outputs": [],
   "source": [
    "def init_weights(shape):\n",
    "    return theano.shared(floatX(np.random.randn(*shape) * 0.01))"
   ]
  },
  {
   "cell_type": "code",
   "execution_count": 4,
   "metadata": {
    "collapsed": true
   },
   "outputs": [],
   "source": [
    "def model(X,w):\n",
    "    return T.nnet.softmax(T.dot(X,w))"
   ]
  },
  {
   "cell_type": "code",
   "execution_count": 5,
   "metadata": {
    "collapsed": false
   },
   "outputs": [],
   "source": [
    "trainX, testX, trainY, testY = mnist(onehot=True)"
   ]
  },
  {
   "cell_type": "code",
   "execution_count": 8,
   "metadata": {
    "collapsed": false
   },
   "outputs": [
    {
     "name": "stdout",
     "output_type": "stream",
     "text": [
      "784\n",
      "60000\n",
      "10\n",
      "60000\n",
      "[ 0.  0.  0.  0.  0.  1.  0.  0.  0.  0.]\n"
     ]
    }
   ],
   "source": [
    "print(len(trainX[0])) # pixels 28x28=784\n",
    "print(len(trainX)) # 60000 training samples\n",
    "print(len(trainY[0])) # 10 classes\n",
    "print(len(trainY)) \n",
    "print(trainY[0]) # one hot"
   ]
  },
  {
   "cell_type": "code",
   "execution_count": 9,
   "metadata": {
    "collapsed": true
   },
   "outputs": [],
   "source": [
    "X = T.fmatrix()\n",
    "Y = T.fmatrix()"
   ]
  },
  {
   "cell_type": "code",
   "execution_count": 10,
   "metadata": {
    "collapsed": false
   },
   "outputs": [],
   "source": [
    "w = init_weights((784, 10))"
   ]
  },
  {
   "cell_type": "markdown",
   "metadata": {},
   "source": [
    "Probability of y given x"
   ]
  },
  {
   "cell_type": "code",
   "execution_count": 11,
   "metadata": {
    "collapsed": true
   },
   "outputs": [],
   "source": [
    "py_x = model(X, w)\n",
    "y_pred = T.argmax(py_x, axis=1)"
   ]
  },
  {
   "cell_type": "code",
   "execution_count": 12,
   "metadata": {
    "collapsed": true
   },
   "outputs": [],
   "source": [
    "cost = T.mean(T.nnet.categorical_crossentropy(py_x, Y))\n",
    "gradient = T.grad(cost=cost, wrt=w)\n",
    "update = [[w, w-gradient*0.05]]"
   ]
  },
  {
   "cell_type": "code",
   "execution_count": 14,
   "metadata": {
    "collapsed": false
   },
   "outputs": [],
   "source": [
    "train = theano.function(inputs=[X,Y], outputs=cost, updates=update, allow_input_downcast=True)\n",
    "predict = theano.function(inputs=[X], outputs=y_pred, allow_input_downcast=True)"
   ]
  },
  {
   "cell_type": "markdown",
   "metadata": {},
   "source": [
    "Train in mini batches of 128 samples"
   ]
  },
  {
   "cell_type": "code",
   "execution_count": 17,
   "metadata": {
    "collapsed": false
   },
   "outputs": [
    {
     "name": "stdout",
     "output_type": "stream",
     "text": [
      "0 0.8858\n",
      "1 0.8986\n",
      "2 0.9052\n",
      "3 0.9085\n",
      "4 0.9099\n",
      "5 0.9114\n",
      "6 0.9135\n",
      "7 0.914\n",
      "8 0.9156\n",
      "9 0.9161\n",
      "10 0.9162\n",
      "11 0.9169\n",
      "12 0.9173\n",
      "13 0.9176\n",
      "14 0.9186\n",
      "15 0.9184\n",
      "16 0.9187\n",
      "17 0.9191\n",
      "18 0.9193\n",
      "19 0.9193\n",
      "20 0.9198\n",
      "21 0.9202\n",
      "22 0.9202\n",
      "23 0.9201\n",
      "24 0.9203\n",
      "25 0.9207\n",
      "26 0.9209\n",
      "27 0.9211\n",
      "28 0.9211\n",
      "29 0.9211\n",
      "30 0.9211\n",
      "31 0.9215\n",
      "32 0.9218\n",
      "33 0.9217\n",
      "34 0.9217\n",
      "35 0.922\n",
      "36 0.9218\n",
      "37 0.9217\n",
      "38 0.9218\n",
      "39 0.9219\n",
      "40 0.922\n",
      "41 0.9223\n",
      "42 0.9224\n",
      "43 0.9224\n",
      "44 0.9225\n",
      "45 0.9225\n",
      "46 0.9226\n",
      "47 0.9229\n",
      "48 0.923\n",
      "49 0.9232\n",
      "50 0.9233\n",
      "51 0.9233\n",
      "52 0.9231\n",
      "53 0.9231\n",
      "54 0.9232\n",
      "55 0.9231\n",
      "56 0.9234\n",
      "57 0.9235\n",
      "58 0.9237\n",
      "59 0.924\n",
      "60 0.9242\n",
      "61 0.9242\n",
      "62 0.9244\n",
      "63 0.9243\n",
      "64 0.9246\n",
      "65 0.9245\n",
      "66 0.9243\n",
      "67 0.9244\n",
      "68 0.9246\n",
      "69 0.9246\n",
      "70 0.9246\n",
      "71 0.9245\n",
      "72 0.9244\n",
      "73 0.9246\n",
      "74 0.9246\n",
      "75 0.9244\n",
      "76 0.9243\n",
      "77 0.9244\n",
      "78 0.9244\n",
      "79 0.9243\n",
      "80 0.9243\n",
      "81 0.9244\n",
      "82 0.9244\n",
      "83 0.9245\n",
      "84 0.9244\n",
      "85 0.9246\n",
      "86 0.9246\n",
      "87 0.9249\n",
      "88 0.9248\n",
      "89 0.9247\n",
      "90 0.9249\n",
      "91 0.9248\n",
      "92 0.9249\n",
      "93 0.925\n",
      "94 0.925\n",
      "95 0.9249\n",
      "96 0.925\n",
      "97 0.925\n",
      "98 0.925\n",
      "99 0.9249\n"
     ]
    }
   ],
   "source": [
    "for i in range(100):\n",
    "    for start, end in zip(range(0, len(trainX), 128), range(128, len(trainX), 128)):\n",
    "        cost = train(trainX[start:end], trainY[start:end])\n",
    "    print (i, np.mean(np.argmax(testY, axis=1) == predict(testX)))"
   ]
  },
  {
   "cell_type": "code",
   "execution_count": null,
   "metadata": {
    "collapsed": true
   },
   "outputs": [],
   "source": []
  }
 ],
 "metadata": {
  "anaconda-cloud": {},
  "kernelspec": {
   "display_name": "Python 3",
   "language": "python",
   "name": "python3"
  },
  "language_info": {
   "codemirror_mode": {
    "name": "ipython",
    "version": 3
   },
   "file_extension": ".py",
   "mimetype": "text/x-python",
   "name": "python",
   "nbconvert_exporter": "python",
   "pygments_lexer": "ipython3",
   "version": "3.4.4"
  }
 },
 "nbformat": 4,
 "nbformat_minor": 0
}
